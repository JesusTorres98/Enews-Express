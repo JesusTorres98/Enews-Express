{
 "cells": [
  {
   "cell_type": "markdown",
   "id": "4c7efbcd",
   "metadata": {},
   "source": [
    "# Project Business Statistics: E-news Express\n"
   ]
  },
  {
   "cell_type": "markdown",
   "id": "a2e75eab",
   "metadata": {},
   "source": [
    "## Description\n",
    "### Background: \n",
    "\n",
    "An online news portal aims to expand its business by acquiring new subscribers. Every visitor to the website takes certain actions based on their interest. The company plans to analyze these interests and wants to determine whether a new feature will be effective or not. Companies often analyze users' responses to two variants of a product to decide which of the two variants is more effective. This experimental technique is known as a/b testing that is used to determine whether a new feature attracts users based on a chosen metric.\n",
    "\n",
    "Suppose you are hired as a Data Scientist in E-news Express. The design team of the company has created a new landing page. You have been assigned the task to decide whether the new landing page is more effective to gather new subscribers. Suppose you randomly selected 100 users and divided them equally into two groups. The old landing page is served to the first group (control group) and the new landing page is served to the second group (treatment group). Various data about the customers in both groups are collected in 'abtest.csv'. Perform the statistical analysis to answer the following questions using the collected data.\n",
    "\n",
    "### Objective:\n",
    "\n",
    "Statistical analysis of business data. Explore the dataset and extract insights from the data. The idea is for you to get comfortable with doing statistical analysis in Python.\n",
    "\n",
    "You are expected to perform the statistical analysis to answer the following questions:\n",
    "\n",
    "1. Explore the dataset and extract insights using Exploratory Data Analysis.\n",
    "2. Do the users spend more time on the new landing page than the old landing page?\n",
    "3. Is the conversion rate (the proportion of users who visit the landing page and get converted) for the new page greater than the conversion rate for the old page?\n",
    "4. Does the converted status depend on the preferred language? [Hint: Create a contingency table using the pandas.crosstab() function]\n",
    "5. Is the mean time spent on the new page same for the different language users?\n",
    "*Consider a significance level of 0.05 for all tests.\n",
    "\n",
    "### Data Dictionary:\n",
    "\n",
    "user_id - This represents the user ID of the person visiting the website.\n",
    "\n",
    "group - This represents whether the user belongs to the first group (control) or the second group (treatment).\n",
    "\n",
    "landing_page - This represents whether the landing page is new or old.\n",
    "\n",
    "time_spent_on_the_page - This represents the time (in minutes) spent by the user on the landing page.\n",
    "\n",
    "converted - This represents whether the user gets converted to a subscriber of the news portal or not.\n",
    "\n",
    "language_preferred - This represents the language chosen by the user to view the landing page."
   ]
  },
  {
   "cell_type": "markdown",
   "id": "74a7887d",
   "metadata": {},
   "source": [
    "### Import the required packages"
   ]
  },
  {
   "cell_type": "code",
   "execution_count": 78,
   "id": "9ca12d38",
   "metadata": {},
   "outputs": [],
   "source": [
    "import numpy as np #library used for working with arrays\n",
    "import pandas as pd #library used for data manipulation and analysis \n",
    "import matplotlib.pyplot as plt #library for plots and visualisations\n",
    "import seaborn as sns #library for visualisations\n",
    "sns.set_theme(style=\"darkgrid\")\n",
    "%matplotlib inline \n",
    "\n",
    "import scipy.stats as stats #this library contains a large number of probability distributions and statistical functions"
   ]
  },
  {
   "cell_type": "markdown",
   "id": "288dadff",
   "metadata": {},
   "source": [
    "## 1. Explore the dataset and extract insights using Exploratory Data Analysis"
   ]
  },
  {
   "cell_type": "markdown",
   "id": "b833e320",
   "metadata": {},
   "source": [
    "### Understand the structure of data"
   ]
  },
  {
   "cell_type": "code",
   "execution_count": 79,
   "id": "5182dbc6",
   "metadata": {},
   "outputs": [
    {
     "data": {
      "text/html": [
       "<div>\n",
       "<style scoped>\n",
       "    .dataframe tbody tr th:only-of-type {\n",
       "        vertical-align: middle;\n",
       "    }\n",
       "\n",
       "    .dataframe tbody tr th {\n",
       "        vertical-align: top;\n",
       "    }\n",
       "\n",
       "    .dataframe thead th {\n",
       "        text-align: right;\n",
       "    }\n",
       "</style>\n",
       "<table border=\"1\" class=\"dataframe\">\n",
       "  <thead>\n",
       "    <tr style=\"text-align: right;\">\n",
       "      <th></th>\n",
       "      <th>user_id</th>\n",
       "      <th>group</th>\n",
       "      <th>landing_page</th>\n",
       "      <th>time_spent_on_the_page</th>\n",
       "      <th>converted</th>\n",
       "      <th>language_preferred</th>\n",
       "    </tr>\n",
       "  </thead>\n",
       "  <tbody>\n",
       "    <tr>\n",
       "      <th>0</th>\n",
       "      <td>546592</td>\n",
       "      <td>control</td>\n",
       "      <td>old</td>\n",
       "      <td>3.48</td>\n",
       "      <td>no</td>\n",
       "      <td>Spanish</td>\n",
       "    </tr>\n",
       "    <tr>\n",
       "      <th>1</th>\n",
       "      <td>546468</td>\n",
       "      <td>treatment</td>\n",
       "      <td>new</td>\n",
       "      <td>7.13</td>\n",
       "      <td>yes</td>\n",
       "      <td>English</td>\n",
       "    </tr>\n",
       "    <tr>\n",
       "      <th>2</th>\n",
       "      <td>546462</td>\n",
       "      <td>treatment</td>\n",
       "      <td>new</td>\n",
       "      <td>4.40</td>\n",
       "      <td>no</td>\n",
       "      <td>Spanish</td>\n",
       "    </tr>\n",
       "    <tr>\n",
       "      <th>3</th>\n",
       "      <td>546567</td>\n",
       "      <td>control</td>\n",
       "      <td>old</td>\n",
       "      <td>3.02</td>\n",
       "      <td>no</td>\n",
       "      <td>French</td>\n",
       "    </tr>\n",
       "    <tr>\n",
       "      <th>4</th>\n",
       "      <td>546459</td>\n",
       "      <td>treatment</td>\n",
       "      <td>new</td>\n",
       "      <td>4.75</td>\n",
       "      <td>yes</td>\n",
       "      <td>Spanish</td>\n",
       "    </tr>\n",
       "  </tbody>\n",
       "</table>\n",
       "</div>"
      ],
      "text/plain": [
       "   user_id      group landing_page  time_spent_on_the_page converted  \\\n",
       "0   546592    control          old                    3.48        no   \n",
       "1   546468  treatment          new                    7.13       yes   \n",
       "2   546462  treatment          new                    4.40        no   \n",
       "3   546567    control          old                    3.02        no   \n",
       "4   546459  treatment          new                    4.75       yes   \n",
       "\n",
       "  language_preferred  \n",
       "0            Spanish  \n",
       "1            English  \n",
       "2            Spanish  \n",
       "3             French  \n",
       "4            Spanish  "
      ]
     },
     "execution_count": 79,
     "metadata": {},
     "output_type": "execute_result"
    }
   ],
   "source": [
    "#read the dataset \n",
    "df = pd.read_csv('abtest.csv')\n",
    "\n",
    "#shows the first five rows of data\n",
    "df.head()"
   ]
  },
  {
   "cell_type": "code",
   "execution_count": 80,
   "id": "2c3481b2",
   "metadata": {},
   "outputs": [
    {
     "data": {
      "text/plain": [
       "(100, 6)"
      ]
     },
     "execution_count": 80,
     "metadata": {},
     "output_type": "execute_result"
    }
   ],
   "source": [
    "df.shape #outputs the dimensions of a dataset (rows by columns)"
   ]
  },
  {
   "cell_type": "markdown",
   "id": "83be7112",
   "metadata": {},
   "source": [
    "#### Observations: \n",
    "The DataFrame has a total of 100 observations composed of 6 features describing each observation. "
   ]
  },
  {
   "cell_type": "code",
   "execution_count": 81,
   "id": "53e1abc3",
   "metadata": {},
   "outputs": [
    {
     "data": {
      "text/plain": [
       "user_id                   0\n",
       "group                     0\n",
       "landing_page              0\n",
       "time_spent_on_the_page    0\n",
       "converted                 0\n",
       "language_preferred        0\n",
       "dtype: int64"
      ]
     },
     "execution_count": 81,
     "metadata": {},
     "output_type": "execute_result"
    }
   ],
   "source": [
    "df.isnull().sum()"
   ]
  },
  {
   "cell_type": "markdown",
   "id": "68da3e7f",
   "metadata": {},
   "source": [
    "#### Observations: \n",
    "There are no missing values for any of the 100 observations and their related features."
   ]
  },
  {
   "cell_type": "code",
   "execution_count": 82,
   "id": "37ee0056",
   "metadata": {},
   "outputs": [
    {
     "name": "stdout",
     "output_type": "stream",
     "text": [
      "<class 'pandas.core.frame.DataFrame'>\n",
      "RangeIndex: 100 entries, 0 to 99\n",
      "Data columns (total 6 columns):\n",
      " #   Column                  Non-Null Count  Dtype  \n",
      "---  ------                  --------------  -----  \n",
      " 0   user_id                 100 non-null    int64  \n",
      " 1   group                   100 non-null    object \n",
      " 2   landing_page            100 non-null    object \n",
      " 3   time_spent_on_the_page  100 non-null    float64\n",
      " 4   converted               100 non-null    object \n",
      " 5   language_preferred      100 non-null    object \n",
      "dtypes: float64(1), int64(1), object(4)\n",
      "memory usage: 4.8+ KB\n"
     ]
    }
   ],
   "source": [
    "df.info() #use info() to print a concise summary of the DataFrame"
   ]
  },
  {
   "cell_type": "markdown",
   "id": "3c529fe7",
   "metadata": {},
   "source": [
    "#### Observations: \n",
    "There are a total of 100 entries/observations and 6 columns/features in the dataset. \n",
    "\n",
    "There is 3 different data types: \n",
    "1. int64(1)\n",
    "    * user_id\n",
    "2. float64(1)\n",
    "    * time_spent_on_the_page\n",
    "3. object(4)\n",
    "    * group, landing_page, converted, language_preferred\n",
    "\n",
    "A memory usage of 4.8+ KB."
   ]
  },
  {
   "cell_type": "code",
   "execution_count": 83,
   "id": "87a4bcbf",
   "metadata": {},
   "outputs": [
    {
     "name": "stdout",
     "output_type": "stream",
     "text": [
      "<class 'pandas.core.frame.DataFrame'>\n",
      "RangeIndex: 100 entries, 0 to 99\n",
      "Data columns (total 6 columns):\n",
      " #   Column                  Non-Null Count  Dtype   \n",
      "---  ------                  --------------  -----   \n",
      " 0   user_id                 100 non-null    int64   \n",
      " 1   group                   100 non-null    category\n",
      " 2   landing_page            100 non-null    category\n",
      " 3   time_spent_on_the_page  100 non-null    float64 \n",
      " 4   converted               100 non-null    category\n",
      " 5   language_preferred      100 non-null    category\n",
      "dtypes: category(4), float64(1), int64(1)\n",
      "memory usage: 2.6 KB\n"
     ]
    }
   ],
   "source": [
    "#coverting \"objects\" to \"category\" reduces the data space required to store the dataframe\n",
    "#converts 'group', 'landing_page', 'converted', 'language_preferred'b into categorical data\n",
    "\n",
    "for col in ['group', 'landing_page', 'converted', 'language_preferred']:\n",
    "    df[col] = df[col].astype('category')\n",
    "\n",
    "# use info() to print a concise summary of the DataFrame\n",
    "df.info()"
   ]
  },
  {
   "cell_type": "markdown",
   "id": "17e2a3d1",
   "metadata": {},
   "source": [
    "#### Observations: \n",
    "Again there are still 100 entries/observations and 6 columns/features in the dataframe. \n",
    "\n",
    "The data types include: \n",
    "1. int64(1)\n",
    "    * user_id\n",
    "2. float64(1)\n",
    "    * time_spent_on_the_page\n",
    "3. categorical(4)\n",
    "    * group, landing_page, converted, language_preferred\n",
    "\n",
    "In converting 4 of the previous object features to categorical the memory usage now includes 2.6 KB."
   ]
  },
  {
   "cell_type": "code",
   "execution_count": 84,
   "id": "ee0b6ef3",
   "metadata": {
    "scrolled": true
   },
   "outputs": [
    {
     "data": {
      "text/html": [
       "<div>\n",
       "<style scoped>\n",
       "    .dataframe tbody tr th:only-of-type {\n",
       "        vertical-align: middle;\n",
       "    }\n",
       "\n",
       "    .dataframe tbody tr th {\n",
       "        vertical-align: top;\n",
       "    }\n",
       "\n",
       "    .dataframe thead th {\n",
       "        text-align: right;\n",
       "    }\n",
       "</style>\n",
       "<table border=\"1\" class=\"dataframe\">\n",
       "  <thead>\n",
       "    <tr style=\"text-align: right;\">\n",
       "      <th></th>\n",
       "      <th>user_id</th>\n",
       "      <th>time_spent_on_the_page</th>\n",
       "    </tr>\n",
       "  </thead>\n",
       "  <tbody>\n",
       "    <tr>\n",
       "      <th>count</th>\n",
       "      <td>100.000000</td>\n",
       "      <td>100.000000</td>\n",
       "    </tr>\n",
       "    <tr>\n",
       "      <th>mean</th>\n",
       "      <td>546517.000000</td>\n",
       "      <td>5.377800</td>\n",
       "    </tr>\n",
       "    <tr>\n",
       "      <th>std</th>\n",
       "      <td>52.295779</td>\n",
       "      <td>2.378166</td>\n",
       "    </tr>\n",
       "    <tr>\n",
       "      <th>min</th>\n",
       "      <td>546443.000000</td>\n",
       "      <td>0.190000</td>\n",
       "    </tr>\n",
       "    <tr>\n",
       "      <th>25%</th>\n",
       "      <td>546467.750000</td>\n",
       "      <td>3.880000</td>\n",
       "    </tr>\n",
       "    <tr>\n",
       "      <th>50%</th>\n",
       "      <td>546492.500000</td>\n",
       "      <td>5.415000</td>\n",
       "    </tr>\n",
       "    <tr>\n",
       "      <th>75%</th>\n",
       "      <td>546567.250000</td>\n",
       "      <td>7.022500</td>\n",
       "    </tr>\n",
       "    <tr>\n",
       "      <th>max</th>\n",
       "      <td>546592.000000</td>\n",
       "      <td>10.710000</td>\n",
       "    </tr>\n",
       "  </tbody>\n",
       "</table>\n",
       "</div>"
      ],
      "text/plain": [
       "             user_id  time_spent_on_the_page\n",
       "count     100.000000              100.000000\n",
       "mean   546517.000000                5.377800\n",
       "std        52.295779                2.378166\n",
       "min    546443.000000                0.190000\n",
       "25%    546467.750000                3.880000\n",
       "50%    546492.500000                5.415000\n",
       "75%    546567.250000                7.022500\n",
       "max    546592.000000               10.710000"
      ]
     },
     "execution_count": 84,
     "metadata": {},
     "output_type": "execute_result"
    }
   ],
   "source": [
    "df.describe() #outputs the summary statistics of the dataset"
   ]
  },
  {
   "cell_type": "markdown",
   "id": "404fb885",
   "metadata": {},
   "source": [
    "#### Observations: \n",
    "1. A total of 100 entries are included in the dataset\n",
    "2. The average \"time spent on the page\" is about 5.38 minutes\n",
    "3. The standard deviation is about 2.38 minutes\n",
    "4. Inter-quartile range includes:\n",
    "    * Min = 0.19\n",
    "    * 25% quartile = 3.88\n",
    "    * 50% quartile = 5.42\n",
    "    * 75% quartile = 7.02\n",
    "    * Max = 10.71"
   ]
  },
  {
   "cell_type": "code",
   "execution_count": 85,
   "id": "6a1fe7e8",
   "metadata": {},
   "outputs": [
    {
     "data": {
      "text/plain": [
       "count         100\n",
       "unique          2\n",
       "top       control\n",
       "freq           50\n",
       "Name: group, dtype: object"
      ]
     },
     "execution_count": 85,
     "metadata": {},
     "output_type": "execute_result"
    }
   ],
   "source": [
    "df['group'].describe() #outputs the count, unique values, top value, frequency, and data type"
   ]
  },
  {
   "cell_type": "markdown",
   "id": "e94d1d4a",
   "metadata": {},
   "source": [
    "#### Observations: \n",
    "The feature \"group\" has 2 unique values control and treatment groups."
   ]
  },
  {
   "cell_type": "code",
   "execution_count": 86,
   "id": "6a080e74",
   "metadata": {},
   "outputs": [
    {
     "data": {
      "text/plain": [
       "count     100\n",
       "unique      2\n",
       "top       new\n",
       "freq       50\n",
       "Name: landing_page, dtype: object"
      ]
     },
     "execution_count": 86,
     "metadata": {},
     "output_type": "execute_result"
    }
   ],
   "source": [
    "df['landing_page'].describe() #outputs the count, unique values, top value, frequency, and data type"
   ]
  },
  {
   "cell_type": "markdown",
   "id": "70a254e6",
   "metadata": {},
   "source": [
    "#### Observations: \n",
    "The feature \"landing page\" also has 2 unique values old and new landing page."
   ]
  },
  {
   "cell_type": "code",
   "execution_count": 87,
   "id": "175a8774",
   "metadata": {},
   "outputs": [
    {
     "data": {
      "text/plain": [
       "count     100\n",
       "unique      2\n",
       "top       yes\n",
       "freq       54\n",
       "Name: converted, dtype: object"
      ]
     },
     "execution_count": 87,
     "metadata": {},
     "output_type": "execute_result"
    }
   ],
   "source": [
    "df['converted'].describe() #outputs the count, unique values, top value, frequency, and data type"
   ]
  },
  {
   "cell_type": "markdown",
   "id": "53e9d8c1",
   "metadata": {},
   "source": [
    "#### Observations: \n",
    "The feature \"converted\" has 2 unique values no and yes, with yes(coverted) having the highest frequency of 54."
   ]
  },
  {
   "cell_type": "code",
   "execution_count": 88,
   "id": "5c9ee976",
   "metadata": {},
   "outputs": [
    {
     "data": {
      "text/plain": [
       "count        100\n",
       "unique         3\n",
       "top       French\n",
       "freq          34\n",
       "Name: language_preferred, dtype: object"
      ]
     },
     "execution_count": 88,
     "metadata": {},
     "output_type": "execute_result"
    }
   ],
   "source": [
    "df['language_preferred'].describe() #outputs the count, unique values, top value, frequency, and data type"
   ]
  },
  {
   "cell_type": "code",
   "execution_count": 89,
   "id": "e859f4a1",
   "metadata": {},
   "outputs": [
    {
     "data": {
      "text/plain": [
       "['Spanish', 'English', 'French']\n",
       "Categories (3, object): ['Spanish', 'English', 'French']"
      ]
     },
     "execution_count": 89,
     "metadata": {},
     "output_type": "execute_result"
    }
   ],
   "source": [
    "df['language_preferred'].unique() #outputs the unique values (categpries) associated with the feature"
   ]
  },
  {
   "cell_type": "markdown",
   "id": "2068bd2c",
   "metadata": {},
   "source": [
    "#### Observations: \n",
    "The feature \"language preferred\" has 3 unique values spanish, english, and french, with french having the highest frequency of 34. "
   ]
  },
  {
   "cell_type": "markdown",
   "id": "3dddc5fe",
   "metadata": {},
   "source": [
    "### Exploratory Data Analysis (EDA)\n",
    "### Univariate Analysis "
   ]
  },
  {
   "cell_type": "code",
   "execution_count": 90,
   "id": "24c1b02b",
   "metadata": {},
   "outputs": [],
   "source": [
    "# function to plot a boxplot and a histogram along the same scale.\n",
    "\n",
    "def histogram_boxplot(df, feature, figsize=(12, 7), kde=False, bins=None):\n",
    "    \"\"\"\n",
    "    Boxplot and histogram combined\n",
    "\n",
    "    data: dataframe\n",
    "    feature: dataframe column\n",
    "    figsize: size of figure (default (12,7))\n",
    "    kde: whether to show the density curve (default False)\n",
    "    bins: number of bins for histogram (default None)\n",
    "    \"\"\"\n",
    "    f2, (ax_box2, ax_hist2) = plt.subplots(\n",
    "        nrows=2,  # Number of rows of the subplot grid= 2\n",
    "        sharex=True,  # x-axis will be shared among all subplots\n",
    "        gridspec_kw={\"height_ratios\": (0.25, 0.75)},\n",
    "        figsize=figsize,\n",
    "    )  # creating the 2 subplots\n",
    "    sns.boxplot(\n",
    "        data=df, x=feature, ax=ax_box2, showmeans=True, color=\"violet\"\n",
    "    )  # boxplot will be created and a star will indicate the mean value of the column\n",
    "    sns.histplot(\n",
    "        data=df, x=feature, kde=kde, ax=ax_hist2, bins=bins, palette=\"winter\"\n",
    "    ) if bins else sns.histplot(\n",
    "        data=df, x=feature, kde=kde, ax=ax_hist2\n",
    "    )  # For histogram\n",
    "    ax_hist2.axvline(\n",
    "        df[feature].mean(), color=\"green\", linestyle=\"--\"\n",
    "    )  # Add mean to the histogram\n",
    "    ax_hist2.axvline(\n",
    "        df[feature].median(), color=\"black\", linestyle=\"-\"\n",
    "    )  # Add median to the histogram"
   ]
  },
  {
   "cell_type": "code",
   "execution_count": 91,
   "id": "bcda2412",
   "metadata": {},
   "outputs": [],
   "source": [
    "# function to create labeled barplots\n",
    "\n",
    "\n",
    "def labeled_barplot(df, feature, perc=False, n=None):\n",
    "    \"\"\"\n",
    "    Barplot with percentage at the top\n",
    "\n",
    "    data: dataframe\n",
    "    feature: dataframe column\n",
    "    perc: whether to display percentages instead of count (default is False)\n",
    "    n: displays the top n category levels (default is None, i.e., display all levels)\n",
    "    \"\"\"\n",
    "\n",
    "    total = len(df[feature])  # length of the column\n",
    "    count = df[feature].nunique()\n",
    "    if n is None:\n",
    "        plt.figure(figsize=(count + 1, 5))\n",
    "    else:\n",
    "        plt.figure(figsize=(n + 1, 5))\n",
    "\n",
    "    plt.xticks(rotation=90, fontsize=15)\n",
    "    ax = sns.countplot(\n",
    "        data=df,\n",
    "        x=feature,\n",
    "        palette=\"Paired\",\n",
    "        order=df[feature].value_counts().index[:n].sort_values(),\n",
    "    )\n",
    "\n",
    "    for p in ax.patches:\n",
    "        if perc == True:\n",
    "            label = \"{:.1f}%\".format(\n",
    "                100 * p.get_height() / total\n",
    "            )  # percentage of each class of the category\n",
    "        else:\n",
    "            label = p.get_height()  # count of each level of the category\n",
    "\n",
    "        x = p.get_x() + p.get_width() / 2  # width of the plot\n",
    "        y = p.get_height()  # height of the plot\n",
    "\n",
    "        ax.annotate(\n",
    "            label,\n",
    "            (x, y),\n",
    "            ha=\"center\",\n",
    "            va=\"center\",\n",
    "            size=12,\n",
    "            xytext=(0, 5),\n",
    "            textcoords=\"offset points\",\n",
    "        )  # annotate the percentage\n",
    "\n",
    "    plt.show()  # show the plot"
   ]
  },
  {
   "cell_type": "code",
   "execution_count": 92,
   "id": "fcbce358",
   "metadata": {},
   "outputs": [],
   "source": [
    "def histogram_boxplot(df, feature, figsize=(12, 7), kde=False, bins=None):\n",
    "    \"\"\"\n",
    "    Boxplot and histogram combined\n",
    "\n",
    "    data: dataframe\n",
    "    feature: dataframe column\n",
    "    figsize: size of figure (default (12,7))\n",
    "    kde: whether to show the density curve (default False)\n",
    "    bins: number of bins for histogram (default None)\n",
    "    \"\"\"\n",
    "    f2, (ax_box2, ax_hist2) = plt.subplots(\n",
    "        nrows=2,  # Number of rows of the subplot grid= 2\n",
    "        sharex=True,  # x-axis will be shared among all subplots\n",
    "        gridspec_kw={\"height_ratios\": (0.25, 0.75)},\n",
    "        figsize=figsize,\n",
    "    )  # creating the 2 subplots\n",
    "    sns.boxplot(\n",
    "        data=df, x=feature, ax=ax_box2, showmeans=True, color=\"violet\"\n",
    "    )  # boxplot will be created and a star will indicate the mean value of the column\n",
    "    sns.histplot(\n",
    "        data=df, x=feature, kde=kde, ax=ax_hist2, bins=bins, palette=\"winter\"\n",
    "    ) if bins else sns.histplot(\n",
    "        data=df, x=feature, kde=kde, ax=ax_hist2\n",
    "    )  # For histogram\n",
    "    ax_hist2.axvline(\n",
    "        df[feature].mean(), color=\"green\", linestyle=\"--\"\n",
    "    )  # Add mean to the histogram\n",
    "    ax_hist2.axvline(\n",
    "        df[feature].median(), color=\"black\", linestyle=\"-\"\n",
    "    )  # Add median to the histogram"
   ]
  },
  {
   "cell_type": "markdown",
   "id": "cc633c39",
   "metadata": {},
   "source": [
    "### Observations on \"group\""
   ]
  },
  {
   "cell_type": "code",
   "execution_count": 93,
   "id": "25834017",
   "metadata": {
    "scrolled": false
   },
   "outputs": [
    {
     "data": {
      "image/png": "[encoded data removed]",
      "text/plain": [
       "<Figure size 216x360 with 1 Axes>"
      ]
     },
     "metadata": {
      "needs_background": "light"
     },
     "output_type": "display_data"
    }
   ],
   "source": [
    "labeled_barplot(df, 'group')"
   ]
  },
  {
   "cell_type": "code",
   "execution_count": 94,
   "id": "f8980f33",
   "metadata": {},
   "outputs": [
    {
     "data": {
      "text/plain": [
       "count         100\n",
       "unique          2\n",
       "top       control\n",
       "freq           50\n",
       "Name: group, dtype: object"
      ]
     },
     "execution_count": 94,
     "metadata": {},
     "output_type": "execute_result"
    }
   ],
   "source": [
    "df['group'].describe() #outputs the count, unique values, top value, frequency, and data type"
   ]
  },
  {
   "cell_type": "markdown",
   "id": "a47a91dd",
   "metadata": {},
   "source": [
    "#### Observations: \n",
    "The feature \"group\" has 2 unique values control and treatment groups. The groups are split in half. 50 in the control group and 50 in the treatment group."
   ]
  },
  {
   "cell_type": "markdown",
   "id": "a2ef1ed7",
   "metadata": {},
   "source": [
    "### Observations on \"landing page\""
   ]
  },
  {
   "cell_type": "code",
   "execution_count": 95,
   "id": "02d6419d",
   "metadata": {},
   "outputs": [
    {
     "data": {
      "image/png": "[encoded data removed]",
      "text/plain": [
       "<Figure size 216x360 with 1 Axes>"
      ]
     },
     "metadata": {
      "needs_background": "light"
     },
     "output_type": "display_data"
    }
   ],
   "source": [
    "labeled_barplot(df, 'landing_page')"
   ]
  },
  {
   "cell_type": "code",
   "execution_count": 96,
   "id": "5a2aef50",
   "metadata": {},
   "outputs": [
    {
     "data": {
      "text/plain": [
       "count     100\n",
       "unique      2\n",
       "top       new\n",
       "freq       50\n",
       "Name: landing_page, dtype: object"
      ]
     },
     "execution_count": 96,
     "metadata": {},
     "output_type": "execute_result"
    }
   ],
   "source": [
    "df['landing_page'].describe() #outputs the count, unique values, top value, frequency, and data type"
   ]
  },
  {
   "cell_type": "markdown",
   "id": "ecb86ecf",
   "metadata": {},
   "source": [
    "#### Observations: \n",
    "The feature \"landing page\" also has 2 unique values old and new landing page. The data shows 50 observations for the old landing page and 50 observation for the new landing page."
   ]
  },
  {
   "cell_type": "markdown",
   "id": "506aea71",
   "metadata": {},
   "source": [
    "### Observations on \"time spent on the landing page\""
   ]
  },
  {
   "cell_type": "code",
   "execution_count": 97,
   "id": "ac66bb0e",
   "metadata": {},
   "outputs": [
    {
     "data": {
      "image/png": "[encoded data removed]",
      "text/plain": [
       "<Figure size 864x504 with 2 Axes>"
      ]
     },
     "metadata": {
      "needs_background": "light"
     },
     "output_type": "display_data"
    }
   ],
   "source": [
    "histogram_boxplot(df, 'time_spent_on_the_page')"
   ]
  },
  {
   "cell_type": "markdown",
   "id": "a6becbb3",
   "metadata": {},
   "source": [
    "#### Observations:\n",
    "1. The average \"time spent on the page\" is about 5.38 minutes\n",
    "2. The standard deviation is about 2.38 minutes\n",
    "3. Inter-quartile range includes:\n",
    "    * Min = 0.19\n",
    "    * 25% quartile = 3.88\n",
    "    * 50% quartile = 5.42\n",
    "    * 75% quartile = 7.02\n",
    "    * Max = 10.71\n",
    "4. The data seems to follow a normal distribution as seen on the barplot/histogram"
   ]
  },
  {
   "cell_type": "markdown",
   "id": "c3a82aa3",
   "metadata": {},
   "source": [
    "### Observations on \"converted\""
   ]
  },
  {
   "cell_type": "code",
   "execution_count": 98,
   "id": "62e8f738",
   "metadata": {},
   "outputs": [
    {
     "data": {
      "image/png": "[encoded data removed]",
      "text/plain": [
       "<Figure size 216x360 with 1 Axes>"
      ]
     },
     "metadata": {
      "needs_background": "light"
     },
     "output_type": "display_data"
    }
   ],
   "source": [
    "labeled_barplot(df, 'converted')"
   ]
  },
  {
   "cell_type": "code",
   "execution_count": 99,
   "id": "7773dd76",
   "metadata": {},
   "outputs": [
    {
     "data": {
      "text/plain": [
       "count     100\n",
       "unique      2\n",
       "top       yes\n",
       "freq       54\n",
       "Name: converted, dtype: object"
      ]
     },
     "execution_count": 99,
     "metadata": {},
     "output_type": "execute_result"
    }
   ],
   "source": [
    "df['converted'].describe() #outputs the count, unique values, top value, frequency, and data type"
   ]
  },
  {
   "cell_type": "markdown",
   "id": "d398997d",
   "metadata": {},
   "source": [
    "#### Observations: \n",
    "The feature \"converted\" has 2 unique values no and yes, with yes(coverted) having the highest frequency of 54 and no(converted) with 46."
   ]
  },
  {
   "cell_type": "markdown",
   "id": "81b4e799",
   "metadata": {},
   "source": [
    "### Observations on \"language_preferred\""
   ]
  },
  {
   "cell_type": "code",
   "execution_count": 100,
   "id": "a0b85f11",
   "metadata": {},
   "outputs": [
    {
     "data": {
      "image/png": "[encoded data removed]",
      "text/plain": [
       "<Figure size 288x360 with 1 Axes>"
      ]
     },
     "metadata": {
      "needs_background": "light"
     },
     "output_type": "display_data"
    }
   ],
   "source": [
    "labeled_barplot(df, 'language_preferred')"
   ]
  },
  {
   "cell_type": "code",
   "execution_count": 101,
   "id": "40e2f1b3",
   "metadata": {},
   "outputs": [
    {
     "data": {
      "text/plain": [
       "count        100\n",
       "unique         3\n",
       "top       French\n",
       "freq          34\n",
       "Name: language_preferred, dtype: object"
      ]
     },
     "execution_count": 101,
     "metadata": {},
     "output_type": "execute_result"
    }
   ],
   "source": [
    "df['language_preferred'].describe() #outputs the count, unique values, top value, frequency, and data type"
   ]
  },
  {
   "cell_type": "code",
   "execution_count": 102,
   "id": "80403fe4",
   "metadata": {},
   "outputs": [
    {
     "data": {
      "text/plain": [
       "['Spanish', 'English', 'French']\n",
       "Categories (3, object): ['Spanish', 'English', 'French']"
      ]
     },
     "execution_count": 102,
     "metadata": {},
     "output_type": "execute_result"
    }
   ],
   "source": [
    "df['language_preferred'].unique() #outputs the unique values (categpries) associated with the feature"
   ]
  },
  {
   "cell_type": "code",
   "execution_count": 103,
   "id": "50c25cef",
   "metadata": {},
   "outputs": [
    {
     "data": {
      "text/plain": [
       "French     34\n",
       "Spanish    34\n",
       "English    32\n",
       "Name: language_preferred, dtype: int64"
      ]
     },
     "execution_count": 103,
     "metadata": {},
     "output_type": "execute_result"
    }
   ],
   "source": [
    "df['language_preferred'].value_counts()"
   ]
  },
  {
   "cell_type": "markdown",
   "id": "e71aa8e8",
   "metadata": {},
   "source": [
    "#### Observations: \n",
    "The feature \"language preferred\" has 3 unique values spanish, english, and french, with both french and spanish having the highest frequencies of 34. "
   ]
  },
  {
   "cell_type": "markdown",
   "id": "8b20c53d",
   "metadata": {},
   "source": [
    "### Bivariate Analysis"
   ]
  },
  {
   "cell_type": "code",
   "execution_count": 104,
   "id": "d8487d60",
   "metadata": {},
   "outputs": [
    {
     "data": {
      "text/html": [
       "<div>\n",
       "<style scoped>\n",
       "    .dataframe tbody tr th:only-of-type {\n",
       "        vertical-align: middle;\n",
       "    }\n",
       "\n",
       "    .dataframe tbody tr th {\n",
       "        vertical-align: top;\n",
       "    }\n",
       "\n",
       "    .dataframe thead th {\n",
       "        text-align: right;\n",
       "    }\n",
       "</style>\n",
       "<table border=\"1\" class=\"dataframe\">\n",
       "  <thead>\n",
       "    <tr style=\"text-align: right;\">\n",
       "      <th></th>\n",
       "      <th>user_id</th>\n",
       "      <th>time_spent_on_the_page</th>\n",
       "    </tr>\n",
       "  </thead>\n",
       "  <tbody>\n",
       "    <tr>\n",
       "      <th>user_id</th>\n",
       "      <td>1.000000</td>\n",
       "      <td>-0.372868</td>\n",
       "    </tr>\n",
       "    <tr>\n",
       "      <th>time_spent_on_the_page</th>\n",
       "      <td>-0.372868</td>\n",
       "      <td>1.000000</td>\n",
       "    </tr>\n",
       "  </tbody>\n",
       "</table>\n",
       "</div>"
      ],
      "text/plain": [
       "                         user_id  time_spent_on_the_page\n",
       "user_id                 1.000000               -0.372868\n",
       "time_spent_on_the_page -0.372868                1.000000"
      ]
     },
     "execution_count": 104,
     "metadata": {},
     "output_type": "execute_result"
    }
   ],
   "source": [
    "df.corr()"
   ]
  },
  {
   "cell_type": "code",
   "execution_count": 105,
   "id": "c9bcf4ed",
   "metadata": {},
   "outputs": [
    {
     "data": {
      "text/plain": [
       "<AxesSubplot:xlabel='group', ylabel='time_spent_on_the_page'>"
      ]
     },
     "execution_count": 105,
     "metadata": {},
     "output_type": "execute_result"
    },
    {
     "data": {
      "image/png": "[encoded data removed]",
      "text/plain": [
       "<Figure size 432x288 with 1 Axes>"
      ]
     },
     "metadata": {
      "needs_background": "light"
     },
     "output_type": "display_data"
    }
   ],
   "source": [
    "sns.barplot(data = df, x = 'group', y = 'time_spent_on_the_page')"
   ]
  },
  {
   "cell_type": "code",
   "execution_count": 106,
   "id": "799dd52c",
   "metadata": {},
   "outputs": [
    {
     "data": {
      "text/plain": [
       "group\n",
       "control      4.5324\n",
       "treatment    6.2232\n",
       "Name: time_spent_on_the_page, dtype: float64"
      ]
     },
     "execution_count": 106,
     "metadata": {},
     "output_type": "execute_result"
    }
   ],
   "source": [
    "df.groupby(['group'])['time_spent_on_the_page'].mean()"
   ]
  },
  {
   "cell_type": "markdown",
   "id": "08fc0b5d",
   "metadata": {},
   "source": [
    "#### Observations:\n",
    "The treatment group(those exposed to the new landing page) are more likely to spend more time on the page."
   ]
  },
  {
   "cell_type": "code",
   "execution_count": 107,
   "id": "c7ae1188",
   "metadata": {},
   "outputs": [
    {
     "data": {
      "text/plain": [
       "<AxesSubplot:xlabel='landing_page', ylabel='time_spent_on_the_page'>"
      ]
     },
     "execution_count": 107,
     "metadata": {},
     "output_type": "execute_result"
    },
    {
     "data": {
      "image/png": "[encoded data removed]",
      "text/plain": [
       "<Figure size 432x288 with 1 Axes>"
      ]
     },
     "metadata": {
      "needs_background": "light"
     },
     "output_type": "display_data"
    }
   ],
   "source": [
    "sns.barplot(data = df, x = 'landing_page', y = 'time_spent_on_the_page')"
   ]
  },
  {
   "cell_type": "code",
   "execution_count": 108,
   "id": "aaf68566",
   "metadata": {},
   "outputs": [
    {
     "data": {
      "text/plain": [
       "landing_page\n",
       "new    6.2232\n",
       "old    4.5324\n",
       "Name: time_spent_on_the_page, dtype: float64"
      ]
     },
     "execution_count": 108,
     "metadata": {},
     "output_type": "execute_result"
    }
   ],
   "source": [
    "df.groupby(['landing_page'])['time_spent_on_the_page'].mean()"
   ]
  },
  {
   "cell_type": "markdown",
   "id": "4266eff1",
   "metadata": {},
   "source": [
    "#### Observations:\n",
    "The same observation from above applies to this one too. Users exposed to the new landing page spend more time on average than those on the old landing page."
   ]
  },
  {
   "cell_type": "code",
   "execution_count": 109,
   "id": "87637e8d",
   "metadata": {},
   "outputs": [
    {
     "data": {
      "text/plain": [
       "<AxesSubplot:xlabel='converted', ylabel='time_spent_on_the_page'>"
      ]
     },
     "execution_count": 109,
     "metadata": {},
     "output_type": "execute_result"
    },
    {
     "data": {
      "image/png": "[encoded data removed]",
      "text/plain": [
       "<Figure size 432x288 with 1 Axes>"
      ]
     },
     "metadata": {
      "needs_background": "light"
     },
     "output_type": "display_data"
    }
   ],
   "source": [
    "sns.barplot(data = df, x = 'converted', y = 'time_spent_on_the_page')"
   ]
  },
  {
   "cell_type": "code",
   "execution_count": 110,
   "id": "1d256ecf",
   "metadata": {},
   "outputs": [
    {
     "data": {
      "text/plain": [
       "converted\n",
       "no     3.915870\n",
       "yes    6.623148\n",
       "Name: time_spent_on_the_page, dtype: float64"
      ]
     },
     "execution_count": 110,
     "metadata": {},
     "output_type": "execute_result"
    }
   ],
   "source": [
    "df.groupby(['converted'])['time_spent_on_the_page'].mean()"
   ]
  },
  {
   "cell_type": "markdown",
   "id": "030832c4",
   "metadata": {},
   "source": [
    "#### Observations:\n",
    "Users who converted demonstrate on average a higher time spent on the page."
   ]
  },
  {
   "cell_type": "code",
   "execution_count": 111,
   "id": "2d77cf94",
   "metadata": {},
   "outputs": [
    {
     "data": {
      "text/plain": [
       "<AxesSubplot:xlabel='language_preferred', ylabel='time_spent_on_the_page'>"
      ]
     },
     "execution_count": 111,
     "metadata": {},
     "output_type": "execute_result"
    },
    {
     "data": {
      "image/png": "[encoded data removed]",
      "text/plain": [
       "<Figure size 432x288 with 1 Axes>"
      ]
     },
     "metadata": {
      "needs_background": "light"
     },
     "output_type": "display_data"
    }
   ],
   "source": [
    "sns.barplot(data = df, x = 'language_preferred', y = 'time_spent_on_the_page')"
   ]
  },
  {
   "cell_type": "code",
   "execution_count": 112,
   "id": "5fa4bd0c",
   "metadata": {},
   "outputs": [
    {
     "data": {
      "text/plain": [
       "language_preferred\n",
       "English    5.559063\n",
       "French     5.253235\n",
       "Spanish    5.331765\n",
       "Name: time_spent_on_the_page, dtype: float64"
      ]
     },
     "execution_count": 112,
     "metadata": {},
     "output_type": "execute_result"
    }
   ],
   "source": [
    "df.groupby(['language_preferred'])['time_spent_on_the_page'].mean()"
   ]
  },
  {
   "cell_type": "markdown",
   "id": "c1ba6662",
   "metadata": {},
   "source": [
    "#### Observations:\n",
    "Amond the different languages English, French, and Spanish the average time spent on the page seems relatively the same."
   ]
  },
  {
   "cell_type": "code",
   "execution_count": 203,
   "id": "0e9a3842",
   "metadata": {},
   "outputs": [
    {
     "data": {
      "text/plain": [
       "<seaborn.axisgrid.FacetGrid at 0x7fbb686aad30>"
      ]
     },
     "execution_count": 203,
     "metadata": {},
     "output_type": "execute_result"
    },
    {
     "data": {
      "image/png": "[encoded data removed]",
      "text/plain": [
       "<Figure size 781.55x360 with 2 Axes>"
      ]
     },
     "metadata": {
      "needs_background": "light"
     },
     "output_type": "display_data"
    }
   ],
   "source": [
    "sns.catplot(data = df, x = 'language_preferred', hue = 'converted', col = 'landing_page', kind = 'count')"
   ]
  },
  {
   "cell_type": "markdown",
   "id": "c08b8739",
   "metadata": {},
   "source": [
    "#### Observations:\n",
    "French and Spanish speaking users are less likely to convert to the new landing page if first exposed to the old landing page. Whereas, if they are first exposed to the new landing page they are more likely to convert. "
   ]
  },
  {
   "cell_type": "code",
   "execution_count": 205,
   "id": "97732b66",
   "metadata": {},
   "outputs": [
    {
     "data": {
      "text/plain": [
       "<AxesSubplot:xlabel='landing_page', ylabel='time_spent_on_the_page'>"
      ]
     },
     "execution_count": 205,
     "metadata": {},
     "output_type": "execute_result"
    },
    {
     "data": {
      "image/png": "[encoded data removed]",
      "text/plain": [
       "<Figure size 432x288 with 1 Axes>"
      ]
     },
     "metadata": {
      "needs_background": "light"
     },
     "output_type": "display_data"
    }
   ],
   "source": [
    "sns.barplot(data = df, x = 'landing_page', y = 'time_spent_on_the_page', hue = 'converted')"
   ]
  },
  {
   "cell_type": "markdown",
   "id": "be091036",
   "metadata": {},
   "source": [
    "#### Observations:\n",
    "The graph demonstrates that more users are likely to convert to the new landing page despite whatever landing page they are first exposed to and those who do convert demonstrate higher time averages. "
   ]
  },
  {
   "cell_type": "markdown",
   "id": "f8f27fa9",
   "metadata": {},
   "source": [
    "### Hypothesis Testing\n",
    "### 2. Do the users spend more time on the new landing page than the old landing page?"
   ]
  },
  {
   "cell_type": "code",
   "execution_count": 200,
   "id": "e45e6a40",
   "metadata": {
    "scrolled": true
   },
   "outputs": [
    {
     "data": {
      "text/plain": [
       "<AxesSubplot:xlabel='landing_page', ylabel='time_spent_on_the_page'>"
      ]
     },
     "execution_count": 200,
     "metadata": {},
     "output_type": "execute_result"
    },
    {
     "data": {
      "image/png": "[encoded data removed]",
      "text/plain": [
       "<Figure size 432x288 with 1 Axes>"
      ]
     },
     "metadata": {
      "needs_background": "light"
     },
     "output_type": "display_data"
    }
   ],
   "source": [
    "sns.boxplot(data = df, x = 'landing_page', y = 'time_spent_on_the_page')"
   ]
  },
  {
   "cell_type": "markdown",
   "id": "68b5548b",
   "metadata": {},
   "source": [
    "#### Observations:\n",
    "On average users seem to spend more time on the new page than on the old page."
   ]
  },
  {
   "cell_type": "code",
   "execution_count": 201,
   "id": "00fe5a56",
   "metadata": {},
   "outputs": [
    {
     "data": {
      "text/plain": [
       "landing_page\n",
       "new    6.2232\n",
       "old    4.5324\n",
       "Name: time_spent_on_the_page, dtype: float64"
      ]
     },
     "execution_count": 201,
     "metadata": {},
     "output_type": "execute_result"
    }
   ],
   "source": [
    "df.groupby(['landing_page'])['time_spent_on_the_page'].mean()"
   ]
  },
  {
   "cell_type": "markdown",
   "id": "b8011111",
   "metadata": {},
   "source": [
    "#### Step 1: Define null and alternate hypotheses"
   ]
  },
  {
   "cell_type": "markdown",
   "id": "ad0bcd14",
   "metadata": {},
   "source": [
    "$H_0:$ The mean time spent on the old landing page.\n",
    "\n",
    "$H_a:$ The mean time spent on the new landing page.\n",
    "\n",
    "Let $\\mu_1, \\mu_2$ be the mean time spent on the old landing page vs the mean time spent on the new landing page.\n",
    "\n",
    "Mathematically, the above formulated hypotheses can be written as:\n",
    "\n",
    "$H_0: \\mu_1 = \\mu_2 $\n",
    "\n",
    "$H_a: \\mu_1 < \\mu_2 $"
   ]
  },
  {
   "cell_type": "markdown",
   "id": "8fabbb1f",
   "metadata": {},
   "source": [
    "#### Step 2: Select Appropriate test"
   ]
  },
  {
   "cell_type": "markdown",
   "id": "711fbe00",
   "metadata": {},
   "source": [
    "This is a case of a one-tailed two-sample mean test. As the two samples are not independent in this case, and also the population standard deviations are unknown, we shall use a paired t-test for this problem."
   ]
  },
  {
   "cell_type": "markdown",
   "id": "379cd808",
   "metadata": {},
   "source": [
    "#### Step 3: Decide the significance level"
   ]
  },
  {
   "cell_type": "markdown",
   "id": "ba3e1c6b",
   "metadata": {},
   "source": [
    "As given in the problem statement, we select $\\alpha$ = 0.05."
   ]
  },
  {
   "cell_type": "markdown",
   "id": "e6c936f9",
   "metadata": {},
   "source": [
    "#### Step 4: Calculate the p-value"
   ]
  },
  {
   "cell_type": "markdown",
   "id": "994df3e9",
   "metadata": {},
   "source": [
    "scipy.stats.ttest_rel calculates the t-test on TWO RELATED samples of observations. This function returns the test statistic and p-value for a right-tailed t-test in case the alternative parameter is set to 'greater'."
   ]
  },
  {
   "cell_type": "code",
   "execution_count": 141,
   "id": "b4354b37",
   "metadata": {},
   "outputs": [],
   "source": [
    "mu1 = df[df['landing_page']=='old']['time_spent_on_the_page']\n",
    "mu2 = df[df['landing_page']=='new']['time_spent_on_the_page']"
   ]
  },
  {
   "cell_type": "code",
   "execution_count": 142,
   "id": "0a21d635",
   "metadata": {
    "ExecuteTime": {
     "end_time": "2020-03-29T06:47:45.803244Z",
     "start_time": "2020-03-29T06:47:45.755841Z"
    },
    "colab": {},
    "colab_type": "code",
    "id": "1f6-2893vFwL",
    "outputId": "2610c3d5-97b8-4ff8-d0a3-2794a82cf96f"
   },
   "outputs": [
    {
     "name": "stdout",
     "output_type": "stream",
     "text": [
      "The p-value is 0.00029910900937037973\n"
     ]
    }
   ],
   "source": [
    "# find the p-value\n",
    "test_stat, p_value  = stats.ttest_rel(mu2, mu1, alternative = 'greater')  #Performing a paired t-test\n",
    "\n",
    "print('The p-value is', p_value)"
   ]
  },
  {
   "cell_type": "markdown",
   "id": "f143045b",
   "metadata": {},
   "source": [
    "#### Step 5: Compare the p-value with $\\alpha$"
   ]
  },
  {
   "cell_type": "code",
   "execution_count": 143,
   "id": "43595cd2",
   "metadata": {},
   "outputs": [
    {
     "name": "stdout",
     "output_type": "stream",
     "text": [
      "As the p-value 0.00029910900937037973 is less than the level of significance, we reject the null hypothesis.\n"
     ]
    }
   ],
   "source": [
    "# print the conclusion based on p-value\n",
    "if p_value < 0.05:\n",
    "    print(f'As the p-value {p_value} is less than the level of significance, we reject the null hypothesis.')\n",
    "else:\n",
    "    print(f'As the p-value {p_value} is greater than the level of significance, we fail to reject the null hypothesis.')"
   ]
  },
  {
   "cell_type": "markdown",
   "id": "dd653465",
   "metadata": {},
   "source": [
    "#### Step 6: Draw Inference"
   ]
  },
  {
   "cell_type": "markdown",
   "id": "52fb6646",
   "metadata": {},
   "source": [
    "At 5% significance level, we reject the null hypothesis. Hence we have enough statistical evidence to say that the new landing page encourages users to spend more time than on the old landing page."
   ]
  },
  {
   "cell_type": "markdown",
   "id": "2aa33020",
   "metadata": {
    "colab_type": "text",
    "id": "hsxPCQCzvFwP"
   },
   "source": [
    "#### What conclusion does the test lead to?"
   ]
  },
  {
   "cell_type": "markdown",
   "id": "90c37a70",
   "metadata": {
    "colab_type": "text",
    "id": "qy9MUVDCvFwQ"
   },
   "source": [
    "In this scenario, the p value is 0.0003 which is less than the 0.05. Hence, we reject the null hypothesis. \n",
    "\n",
    "This means that the new landing page encourages users to spend more time significantly."
   ]
  },
  {
   "cell_type": "markdown",
   "id": "69b5e16e",
   "metadata": {},
   "source": [
    "### 3. Is the conversion rate (the proportion of users who visit the landing page and get converted) for the new page greater than the conversion rate for the old page?"
   ]
  },
  {
   "cell_type": "code",
   "execution_count": 196,
   "id": "db8bcef7",
   "metadata": {},
   "outputs": [
    {
     "data": {
      "text/plain": [
       "<seaborn.axisgrid.FacetGrid at 0x7fbb684b0610>"
      ]
     },
     "execution_count": 196,
     "metadata": {},
     "output_type": "execute_result"
    },
    {
     "data": {
      "image/png": "[encoded data removed]",
      "text/plain": [
       "<Figure size 720x360 with 2 Axes>"
      ]
     },
     "metadata": {
      "needs_background": "light"
     },
     "output_type": "display_data"
    }
   ],
   "source": [
    "sns.catplot(data = df, x = 'converted', col = 'landing_page', kind = 'count')"
   ]
  },
  {
   "cell_type": "markdown",
   "id": "03ee228b",
   "metadata": {},
   "source": [
    "#### Observation:\n",
    "Users engaging with the new landing page are more likely to convert than those using the old landing page."
   ]
  },
  {
   "cell_type": "markdown",
   "id": "648ccf1e",
   "metadata": {
    "id": "2YCkHK12HreW"
   },
   "source": [
    "#### Let's write the null and alternative hypothesis\n",
    "Let $p_1,p_2$ be the proportions of converters in old landing page and new landing page respectively.\n",
    "\n",
    "The company will test the null hypothesis\n",
    "\n",
    ">$H_0:p_1 =p_2$\n",
    "\n",
    "against the alternate hypothesis\n",
    "\n",
    ">$H_a:p_1 \\neq p_2$"
   ]
  },
  {
   "cell_type": "code",
   "execution_count": 148,
   "id": "34d1a773",
   "metadata": {},
   "outputs": [
    {
     "data": {
      "text/plain": [
       "landing_page  converted\n",
       "new           yes          33\n",
       "              no           17\n",
       "old           no           29\n",
       "              yes          21\n",
       "Name: converted, dtype: int64"
      ]
     },
     "execution_count": 148,
     "metadata": {},
     "output_type": "execute_result"
    }
   ],
   "source": [
    "#find the number of users who converted among both groups, old landing page and new landing page\n",
    "df.groupby(['landing_page'])['converted'].value_counts()"
   ]
  },
  {
   "cell_type": "code",
   "execution_count": 149,
   "id": "4dfcb1e6",
   "metadata": {},
   "outputs": [
    {
     "name": "stdout",
     "output_type": "stream",
     "text": [
      "The p-value is 0.016052616408112556\n"
     ]
    }
   ],
   "source": [
    "# import the required fuction\n",
    "from statsmodels.stats.proportion import proportions_ztest\n",
    "\n",
    "# set the counts of converters\n",
    "converter_count = np.array([21, 33])\n",
    "\n",
    "# set the sample sizes\n",
    "nobs = np.array([50, 50])\n",
    "\n",
    "# find the p-value\n",
    "test_stat, p_value = proportions_ztest(converter_count, nobs)\n",
    "print('The p-value is ' + str(p_value))"
   ]
  },
  {
   "cell_type": "markdown",
   "id": "68a4b0f5",
   "metadata": {},
   "source": [
    "#### Compare the p-value with $\\alpha$"
   ]
  },
  {
   "cell_type": "code",
   "execution_count": 151,
   "id": "8b6b97a7",
   "metadata": {},
   "outputs": [
    {
     "name": "stdout",
     "output_type": "stream",
     "text": [
      "As the p-value 0.016052616408112556 is less than the level of significance, we reject the null hypothesis.\n"
     ]
    }
   ],
   "source": [
    "# print the conclusion based on p-value\n",
    "if p_value < 0.05:\n",
    "    print(f'As the p-value {p_value} is less than the level of significance, we reject the null hypothesis.')\n",
    "else:\n",
    "    print(f'As the p-value {p_value} is greater than the level of significance, we fail to reject the null hypothesis.')"
   ]
  },
  {
   "cell_type": "markdown",
   "id": "701be9aa",
   "metadata": {},
   "source": [
    "#### Step 6: Draw Inference"
   ]
  },
  {
   "cell_type": "markdown",
   "id": "3f952b0b",
   "metadata": {},
   "source": [
    "At 5% significance level, we reject the null hypothesis. Hence we have enough statistical evidence to say that the conversion rate among the two groups, old landing page and new landing page are different."
   ]
  },
  {
   "cell_type": "markdown",
   "id": "23bfdd1c",
   "metadata": {
    "colab_type": "text",
    "id": "hsxPCQCzvFwP"
   },
   "source": [
    "#### What conclusion does the test lead to?"
   ]
  },
  {
   "cell_type": "markdown",
   "id": "a922dc9f",
   "metadata": {
    "colab_type": "text",
    "id": "qy9MUVDCvFwQ"
   },
   "source": [
    "In this scenario, the p value is 0.016 which is less than the 0.05. Hence, we reject the null hypothesis. \n",
    "\n",
    "This means that the conversion rate among the two groups, old landing page and new landing page are significantly different."
   ]
  },
  {
   "cell_type": "markdown",
   "id": "e1fda9b0",
   "metadata": {},
   "source": [
    "### 4. Does the converted status depend on the preferred language? [Hint: Create a contingency table using the pandas.crosstab() function]"
   ]
  },
  {
   "cell_type": "code",
   "execution_count": 195,
   "id": "7474d73d",
   "metadata": {},
   "outputs": [
    {
     "data": {
      "text/plain": [
       "<seaborn.axisgrid.FacetGrid at 0x7fbb675dc730>"
      ]
     },
     "execution_count": 195,
     "metadata": {},
     "output_type": "execute_result"
    },
    {
     "data": {
      "image/png": "[encoded data removed]",
      "text/plain": [
       "<Figure size 1080x360 with 3 Axes>"
      ]
     },
     "metadata": {
      "needs_background": "light"
     },
     "output_type": "display_data"
    }
   ],
   "source": [
    "sns.catplot(data = df, x = 'converted', col = 'language_preferred', kind = 'count')"
   ]
  },
  {
   "cell_type": "markdown",
   "id": "74d73e8c",
   "metadata": {},
   "source": [
    "#### Observation:\n",
    "The converted status doesn't seem to have much of an effect on French and Spanish speaking users, but does play more of a role with English speaking users."
   ]
  },
  {
   "cell_type": "code",
   "execution_count": 162,
   "id": "1370f70b",
   "metadata": {
    "scrolled": false
   },
   "outputs": [
    {
     "data": {
      "text/html": [
       "<div>\n",
       "<style scoped>\n",
       "    .dataframe tbody tr th:only-of-type {\n",
       "        vertical-align: middle;\n",
       "    }\n",
       "\n",
       "    .dataframe tbody tr th {\n",
       "        vertical-align: top;\n",
       "    }\n",
       "\n",
       "    .dataframe thead th {\n",
       "        text-align: right;\n",
       "    }\n",
       "</style>\n",
       "<table border=\"1\" class=\"dataframe\">\n",
       "  <thead>\n",
       "    <tr style=\"text-align: right;\">\n",
       "      <th></th>\n",
       "      <th>converted</th>\n",
       "      <th>language_preferred</th>\n",
       "    </tr>\n",
       "  </thead>\n",
       "  <tbody>\n",
       "    <tr>\n",
       "      <th>0</th>\n",
       "      <td>no</td>\n",
       "      <td>Spanish</td>\n",
       "    </tr>\n",
       "    <tr>\n",
       "      <th>1</th>\n",
       "      <td>yes</td>\n",
       "      <td>English</td>\n",
       "    </tr>\n",
       "    <tr>\n",
       "      <th>2</th>\n",
       "      <td>no</td>\n",
       "      <td>Spanish</td>\n",
       "    </tr>\n",
       "    <tr>\n",
       "      <th>3</th>\n",
       "      <td>no</td>\n",
       "      <td>French</td>\n",
       "    </tr>\n",
       "    <tr>\n",
       "      <th>4</th>\n",
       "      <td>yes</td>\n",
       "      <td>Spanish</td>\n",
       "    </tr>\n",
       "    <tr>\n",
       "      <th>...</th>\n",
       "      <td>...</td>\n",
       "      <td>...</td>\n",
       "    </tr>\n",
       "    <tr>\n",
       "      <th>95</th>\n",
       "      <td>no</td>\n",
       "      <td>Spanish</td>\n",
       "    </tr>\n",
       "    <tr>\n",
       "      <th>96</th>\n",
       "      <td>yes</td>\n",
       "      <td>English</td>\n",
       "    </tr>\n",
       "    <tr>\n",
       "      <th>97</th>\n",
       "      <td>yes</td>\n",
       "      <td>Spanish</td>\n",
       "    </tr>\n",
       "    <tr>\n",
       "      <th>98</th>\n",
       "      <td>yes</td>\n",
       "      <td>Spanish</td>\n",
       "    </tr>\n",
       "    <tr>\n",
       "      <th>99</th>\n",
       "      <td>yes</td>\n",
       "      <td>English</td>\n",
       "    </tr>\n",
       "  </tbody>\n",
       "</table>\n",
       "<p>100 rows × 2 columns</p>\n",
       "</div>"
      ],
      "text/plain": [
       "   converted language_preferred\n",
       "0         no            Spanish\n",
       "1        yes            English\n",
       "2         no            Spanish\n",
       "3         no             French\n",
       "4        yes            Spanish\n",
       "..       ...                ...\n",
       "95        no            Spanish\n",
       "96       yes            English\n",
       "97       yes            Spanish\n",
       "98       yes            Spanish\n",
       "99       yes            English\n",
       "\n",
       "[100 rows x 2 columns]"
      ]
     },
     "execution_count": 162,
     "metadata": {},
     "output_type": "execute_result"
    }
   ],
   "source": [
    "df1 = df.drop(['group','user_id','time_spent_on_the_page','landing_page'], axis=1)\n",
    "df1"
   ]
  },
  {
   "cell_type": "code",
   "execution_count": 177,
   "id": "946440e5",
   "metadata": {},
   "outputs": [
    {
     "data": {
      "text/html": [
       "<div>\n",
       "<style scoped>\n",
       "    .dataframe tbody tr th:only-of-type {\n",
       "        vertical-align: middle;\n",
       "    }\n",
       "\n",
       "    .dataframe tbody tr th {\n",
       "        vertical-align: top;\n",
       "    }\n",
       "\n",
       "    .dataframe thead th {\n",
       "        text-align: right;\n",
       "    }\n",
       "</style>\n",
       "<table border=\"1\" class=\"dataframe\">\n",
       "  <thead>\n",
       "    <tr style=\"text-align: right;\">\n",
       "      <th>language_preferred</th>\n",
       "      <th>English</th>\n",
       "      <th>French</th>\n",
       "      <th>Spanish</th>\n",
       "    </tr>\n",
       "    <tr>\n",
       "      <th>converted</th>\n",
       "      <th></th>\n",
       "      <th></th>\n",
       "      <th></th>\n",
       "    </tr>\n",
       "  </thead>\n",
       "  <tbody>\n",
       "    <tr>\n",
       "      <th>no</th>\n",
       "      <td>11</td>\n",
       "      <td>19</td>\n",
       "      <td>16</td>\n",
       "    </tr>\n",
       "    <tr>\n",
       "      <th>yes</th>\n",
       "      <td>21</td>\n",
       "      <td>15</td>\n",
       "      <td>18</td>\n",
       "    </tr>\n",
       "  </tbody>\n",
       "</table>\n",
       "</div>"
      ],
      "text/plain": [
       "language_preferred  English  French  Spanish\n",
       "converted                                   \n",
       "no                       11      19       16\n",
       "yes                      21      15       18"
      ]
     },
     "execution_count": 177,
     "metadata": {},
     "output_type": "execute_result"
    }
   ],
   "source": [
    "df2 = pd.crosstab(df1['converted'], df1['language_preferred'])\n",
    "df2"
   ]
  },
  {
   "cell_type": "markdown",
   "id": "277552c8",
   "metadata": {
    "id": "9BL1dzNufjcm"
   },
   "source": [
    "#### Let's write the null and alternative hypothesis\n",
    "\n",
    "\n",
    "We will test the null hypothesis\n",
    "\n",
    ">$H_0:$ Converted status is independent of language preferred.\n",
    "\n",
    "against the alternate hypothesis\n",
    "\n",
    ">$H_a:$ Converted status depends on language preferred."
   ]
  },
  {
   "cell_type": "code",
   "execution_count": 173,
   "id": "fcd4369d",
   "metadata": {},
   "outputs": [
    {
     "name": "stdout",
     "output_type": "stream",
     "text": [
      "The p-value is 0.21298887487543447\n"
     ]
    }
   ],
   "source": [
    "# import the required function\n",
    "from scipy.stats import chi2_contingency\n",
    "\n",
    "# find the p-value\n",
    "chi, p_value, dof, expected = chi2_contingency(df2)\n",
    "print('The p-value is', p_value)"
   ]
  },
  {
   "cell_type": "markdown",
   "id": "6d98584a",
   "metadata": {},
   "source": [
    "#### Compare the p-value with $\\alpha$"
   ]
  },
  {
   "cell_type": "code",
   "execution_count": 178,
   "id": "816efd8d",
   "metadata": {},
   "outputs": [
    {
     "name": "stdout",
     "output_type": "stream",
     "text": [
      "As the p-value 0.21298887487543447 is greater than the level of significance, we fail to reject the null hypothesis.\n"
     ]
    }
   ],
   "source": [
    "# print the conclusion based on p-value\n",
    "if p_value < 0.05:\n",
    "    print(f'As the p-value {p_value} is less than the level of significance, we reject the null hypothesis.')\n",
    "else:\n",
    "    print(f'As the p-value {p_value} is greater than the level of significance, we fail to reject the null hypothesis.')"
   ]
  },
  {
   "cell_type": "markdown",
   "id": "9413225c",
   "metadata": {},
   "source": [
    "#### Step 6: Draw Inference"
   ]
  },
  {
   "cell_type": "markdown",
   "id": "fa85e1be",
   "metadata": {},
   "source": [
    "At 5% significance level, we fail to reject the null hypothesis. Hence we don't have enough statistical evidence to say that converted status depends on language preferrence."
   ]
  },
  {
   "cell_type": "markdown",
   "id": "d52ae29c",
   "metadata": {
    "colab_type": "text",
    "id": "hsxPCQCzvFwP"
   },
   "source": [
    "#### What conclusion does the test lead to?"
   ]
  },
  {
   "cell_type": "markdown",
   "id": "359d6c51",
   "metadata": {
    "colab_type": "text",
    "id": "qy9MUVDCvFwQ"
   },
   "source": [
    "In this scenario, the p value is 0.213 which is greater than the 0.05. Hence, we fail to reject the null hypothesis. \n",
    "\n",
    "This means that the converted status is independent of language preferred."
   ]
  },
  {
   "cell_type": "markdown",
   "id": "a9b89ca9",
   "metadata": {},
   "source": [
    "### 5. Is the mean time spent on the new page same for the different language users?"
   ]
  },
  {
   "cell_type": "code",
   "execution_count": 189,
   "id": "c962efc1",
   "metadata": {
    "scrolled": true
   },
   "outputs": [
    {
     "data": {
      "text/html": [
       "<div>\n",
       "<style scoped>\n",
       "    .dataframe tbody tr th:only-of-type {\n",
       "        vertical-align: middle;\n",
       "    }\n",
       "\n",
       "    .dataframe tbody tr th {\n",
       "        vertical-align: top;\n",
       "    }\n",
       "\n",
       "    .dataframe thead th {\n",
       "        text-align: right;\n",
       "    }\n",
       "</style>\n",
       "<table border=\"1\" class=\"dataframe\">\n",
       "  <thead>\n",
       "    <tr style=\"text-align: right;\">\n",
       "      <th></th>\n",
       "      <th>user_id</th>\n",
       "      <th>group</th>\n",
       "      <th>landing_page</th>\n",
       "      <th>time_spent_on_the_page</th>\n",
       "      <th>converted</th>\n",
       "      <th>language_preferred</th>\n",
       "    </tr>\n",
       "  </thead>\n",
       "  <tbody>\n",
       "    <tr>\n",
       "      <th>1</th>\n",
       "      <td>546468</td>\n",
       "      <td>treatment</td>\n",
       "      <td>new</td>\n",
       "      <td>7.13</td>\n",
       "      <td>yes</td>\n",
       "      <td>English</td>\n",
       "    </tr>\n",
       "    <tr>\n",
       "      <th>2</th>\n",
       "      <td>546462</td>\n",
       "      <td>treatment</td>\n",
       "      <td>new</td>\n",
       "      <td>4.40</td>\n",
       "      <td>no</td>\n",
       "      <td>Spanish</td>\n",
       "    </tr>\n",
       "    <tr>\n",
       "      <th>4</th>\n",
       "      <td>546459</td>\n",
       "      <td>treatment</td>\n",
       "      <td>new</td>\n",
       "      <td>4.75</td>\n",
       "      <td>yes</td>\n",
       "      <td>Spanish</td>\n",
       "    </tr>\n",
       "    <tr>\n",
       "      <th>6</th>\n",
       "      <td>546448</td>\n",
       "      <td>treatment</td>\n",
       "      <td>new</td>\n",
       "      <td>5.25</td>\n",
       "      <td>yes</td>\n",
       "      <td>French</td>\n",
       "    </tr>\n",
       "    <tr>\n",
       "      <th>8</th>\n",
       "      <td>546461</td>\n",
       "      <td>treatment</td>\n",
       "      <td>new</td>\n",
       "      <td>10.71</td>\n",
       "      <td>yes</td>\n",
       "      <td>French</td>\n",
       "    </tr>\n",
       "    <tr>\n",
       "      <th>12</th>\n",
       "      <td>546491</td>\n",
       "      <td>treatment</td>\n",
       "      <td>new</td>\n",
       "      <td>5.86</td>\n",
       "      <td>yes</td>\n",
       "      <td>Spanish</td>\n",
       "    </tr>\n",
       "    <tr>\n",
       "      <th>13</th>\n",
       "      <td>546478</td>\n",
       "      <td>treatment</td>\n",
       "      <td>new</td>\n",
       "      <td>6.03</td>\n",
       "      <td>yes</td>\n",
       "      <td>French</td>\n",
       "    </tr>\n",
       "    <tr>\n",
       "      <th>15</th>\n",
       "      <td>546466</td>\n",
       "      <td>treatment</td>\n",
       "      <td>new</td>\n",
       "      <td>6.27</td>\n",
       "      <td>yes</td>\n",
       "      <td>Spanish</td>\n",
       "    </tr>\n",
       "    <tr>\n",
       "      <th>16</th>\n",
       "      <td>546443</td>\n",
       "      <td>treatment</td>\n",
       "      <td>new</td>\n",
       "      <td>8.73</td>\n",
       "      <td>no</td>\n",
       "      <td>English</td>\n",
       "    </tr>\n",
       "    <tr>\n",
       "      <th>22</th>\n",
       "      <td>546450</td>\n",
       "      <td>treatment</td>\n",
       "      <td>new</td>\n",
       "      <td>3.65</td>\n",
       "      <td>no</td>\n",
       "      <td>English</td>\n",
       "    </tr>\n",
       "    <tr>\n",
       "      <th>23</th>\n",
       "      <td>546475</td>\n",
       "      <td>treatment</td>\n",
       "      <td>new</td>\n",
       "      <td>7.02</td>\n",
       "      <td>yes</td>\n",
       "      <td>English</td>\n",
       "    </tr>\n",
       "    <tr>\n",
       "      <th>24</th>\n",
       "      <td>546456</td>\n",
       "      <td>treatment</td>\n",
       "      <td>new</td>\n",
       "      <td>6.18</td>\n",
       "      <td>no</td>\n",
       "      <td>Spanish</td>\n",
       "    </tr>\n",
       "    <tr>\n",
       "      <th>25</th>\n",
       "      <td>546455</td>\n",
       "      <td>treatment</td>\n",
       "      <td>new</td>\n",
       "      <td>4.39</td>\n",
       "      <td>no</td>\n",
       "      <td>English</td>\n",
       "    </tr>\n",
       "    <tr>\n",
       "      <th>26</th>\n",
       "      <td>546469</td>\n",
       "      <td>treatment</td>\n",
       "      <td>new</td>\n",
       "      <td>9.49</td>\n",
       "      <td>yes</td>\n",
       "      <td>English</td>\n",
       "    </tr>\n",
       "    <tr>\n",
       "      <th>28</th>\n",
       "      <td>546471</td>\n",
       "      <td>treatment</td>\n",
       "      <td>new</td>\n",
       "      <td>7.81</td>\n",
       "      <td>yes</td>\n",
       "      <td>French</td>\n",
       "    </tr>\n",
       "    <tr>\n",
       "      <th>30</th>\n",
       "      <td>546464</td>\n",
       "      <td>treatment</td>\n",
       "      <td>new</td>\n",
       "      <td>5.41</td>\n",
       "      <td>yes</td>\n",
       "      <td>English</td>\n",
       "    </tr>\n",
       "    <tr>\n",
       "      <th>38</th>\n",
       "      <td>546487</td>\n",
       "      <td>treatment</td>\n",
       "      <td>new</td>\n",
       "      <td>1.65</td>\n",
       "      <td>no</td>\n",
       "      <td>Spanish</td>\n",
       "    </tr>\n",
       "    <tr>\n",
       "      <th>42</th>\n",
       "      <td>546489</td>\n",
       "      <td>treatment</td>\n",
       "      <td>new</td>\n",
       "      <td>7.16</td>\n",
       "      <td>yes</td>\n",
       "      <td>Spanish</td>\n",
       "    </tr>\n",
       "    <tr>\n",
       "      <th>43</th>\n",
       "      <td>546453</td>\n",
       "      <td>treatment</td>\n",
       "      <td>new</td>\n",
       "      <td>7.16</td>\n",
       "      <td>yes</td>\n",
       "      <td>English</td>\n",
       "    </tr>\n",
       "    <tr>\n",
       "      <th>44</th>\n",
       "      <td>546488</td>\n",
       "      <td>treatment</td>\n",
       "      <td>new</td>\n",
       "      <td>3.91</td>\n",
       "      <td>no</td>\n",
       "      <td>English</td>\n",
       "    </tr>\n",
       "    <tr>\n",
       "      <th>46</th>\n",
       "      <td>546460</td>\n",
       "      <td>treatment</td>\n",
       "      <td>new</td>\n",
       "      <td>5.37</td>\n",
       "      <td>yes</td>\n",
       "      <td>French</td>\n",
       "    </tr>\n",
       "    <tr>\n",
       "      <th>47</th>\n",
       "      <td>546458</td>\n",
       "      <td>treatment</td>\n",
       "      <td>new</td>\n",
       "      <td>7.23</td>\n",
       "      <td>yes</td>\n",
       "      <td>Spanish</td>\n",
       "    </tr>\n",
       "    <tr>\n",
       "      <th>48</th>\n",
       "      <td>546492</td>\n",
       "      <td>treatment</td>\n",
       "      <td>new</td>\n",
       "      <td>8.08</td>\n",
       "      <td>yes</td>\n",
       "      <td>Spanish</td>\n",
       "    </tr>\n",
       "    <tr>\n",
       "      <th>49</th>\n",
       "      <td>546473</td>\n",
       "      <td>treatment</td>\n",
       "      <td>new</td>\n",
       "      <td>10.50</td>\n",
       "      <td>yes</td>\n",
       "      <td>English</td>\n",
       "    </tr>\n",
       "    <tr>\n",
       "      <th>51</th>\n",
       "      <td>546457</td>\n",
       "      <td>treatment</td>\n",
       "      <td>new</td>\n",
       "      <td>5.65</td>\n",
       "      <td>no</td>\n",
       "      <td>English</td>\n",
       "    </tr>\n",
       "    <tr>\n",
       "      <th>52</th>\n",
       "      <td>546479</td>\n",
       "      <td>treatment</td>\n",
       "      <td>new</td>\n",
       "      <td>6.47</td>\n",
       "      <td>yes</td>\n",
       "      <td>Spanish</td>\n",
       "    </tr>\n",
       "    <tr>\n",
       "      <th>54</th>\n",
       "      <td>546482</td>\n",
       "      <td>treatment</td>\n",
       "      <td>new</td>\n",
       "      <td>6.41</td>\n",
       "      <td>yes</td>\n",
       "      <td>Spanish</td>\n",
       "    </tr>\n",
       "    <tr>\n",
       "      <th>57</th>\n",
       "      <td>546454</td>\n",
       "      <td>treatment</td>\n",
       "      <td>new</td>\n",
       "      <td>8.30</td>\n",
       "      <td>yes</td>\n",
       "      <td>French</td>\n",
       "    </tr>\n",
       "    <tr>\n",
       "      <th>60</th>\n",
       "      <td>546470</td>\n",
       "      <td>treatment</td>\n",
       "      <td>new</td>\n",
       "      <td>6.01</td>\n",
       "      <td>yes</td>\n",
       "      <td>French</td>\n",
       "    </tr>\n",
       "    <tr>\n",
       "      <th>61</th>\n",
       "      <td>546467</td>\n",
       "      <td>treatment</td>\n",
       "      <td>new</td>\n",
       "      <td>6.79</td>\n",
       "      <td>yes</td>\n",
       "      <td>French</td>\n",
       "    </tr>\n",
       "    <tr>\n",
       "      <th>65</th>\n",
       "      <td>546445</td>\n",
       "      <td>treatment</td>\n",
       "      <td>new</td>\n",
       "      <td>7.27</td>\n",
       "      <td>yes</td>\n",
       "      <td>French</td>\n",
       "    </tr>\n",
       "    <tr>\n",
       "      <th>68</th>\n",
       "      <td>546484</td>\n",
       "      <td>treatment</td>\n",
       "      <td>new</td>\n",
       "      <td>6.70</td>\n",
       "      <td>no</td>\n",
       "      <td>Spanish</td>\n",
       "    </tr>\n",
       "    <tr>\n",
       "      <th>71</th>\n",
       "      <td>546476</td>\n",
       "      <td>treatment</td>\n",
       "      <td>new</td>\n",
       "      <td>5.42</td>\n",
       "      <td>yes</td>\n",
       "      <td>French</td>\n",
       "    </tr>\n",
       "    <tr>\n",
       "      <th>72</th>\n",
       "      <td>546452</td>\n",
       "      <td>treatment</td>\n",
       "      <td>new</td>\n",
       "      <td>5.08</td>\n",
       "      <td>yes</td>\n",
       "      <td>English</td>\n",
       "    </tr>\n",
       "    <tr>\n",
       "      <th>73</th>\n",
       "      <td>546444</td>\n",
       "      <td>treatment</td>\n",
       "      <td>new</td>\n",
       "      <td>7.46</td>\n",
       "      <td>yes</td>\n",
       "      <td>English</td>\n",
       "    </tr>\n",
       "    <tr>\n",
       "      <th>77</th>\n",
       "      <td>546485</td>\n",
       "      <td>treatment</td>\n",
       "      <td>new</td>\n",
       "      <td>3.88</td>\n",
       "      <td>no</td>\n",
       "      <td>Spanish</td>\n",
       "    </tr>\n",
       "    <tr>\n",
       "      <th>78</th>\n",
       "      <td>546486</td>\n",
       "      <td>treatment</td>\n",
       "      <td>new</td>\n",
       "      <td>9.12</td>\n",
       "      <td>yes</td>\n",
       "      <td>French</td>\n",
       "    </tr>\n",
       "    <tr>\n",
       "      <th>80</th>\n",
       "      <td>546490</td>\n",
       "      <td>treatment</td>\n",
       "      <td>new</td>\n",
       "      <td>4.68</td>\n",
       "      <td>no</td>\n",
       "      <td>French</td>\n",
       "    </tr>\n",
       "    <tr>\n",
       "      <th>81</th>\n",
       "      <td>546449</td>\n",
       "      <td>treatment</td>\n",
       "      <td>new</td>\n",
       "      <td>5.26</td>\n",
       "      <td>yes</td>\n",
       "      <td>French</td>\n",
       "    </tr>\n",
       "    <tr>\n",
       "      <th>82</th>\n",
       "      <td>546463</td>\n",
       "      <td>treatment</td>\n",
       "      <td>new</td>\n",
       "      <td>5.74</td>\n",
       "      <td>yes</td>\n",
       "      <td>Spanish</td>\n",
       "    </tr>\n",
       "    <tr>\n",
       "      <th>86</th>\n",
       "      <td>546465</td>\n",
       "      <td>treatment</td>\n",
       "      <td>new</td>\n",
       "      <td>6.71</td>\n",
       "      <td>no</td>\n",
       "      <td>English</td>\n",
       "    </tr>\n",
       "    <tr>\n",
       "      <th>87</th>\n",
       "      <td>546480</td>\n",
       "      <td>treatment</td>\n",
       "      <td>new</td>\n",
       "      <td>3.68</td>\n",
       "      <td>no</td>\n",
       "      <td>French</td>\n",
       "    </tr>\n",
       "    <tr>\n",
       "      <th>88</th>\n",
       "      <td>546447</td>\n",
       "      <td>treatment</td>\n",
       "      <td>new</td>\n",
       "      <td>3.30</td>\n",
       "      <td>no</td>\n",
       "      <td>French</td>\n",
       "    </tr>\n",
       "    <tr>\n",
       "      <th>90</th>\n",
       "      <td>546477</td>\n",
       "      <td>treatment</td>\n",
       "      <td>new</td>\n",
       "      <td>5.40</td>\n",
       "      <td>no</td>\n",
       "      <td>French</td>\n",
       "    </tr>\n",
       "    <tr>\n",
       "      <th>91</th>\n",
       "      <td>546451</td>\n",
       "      <td>treatment</td>\n",
       "      <td>new</td>\n",
       "      <td>8.47</td>\n",
       "      <td>yes</td>\n",
       "      <td>English</td>\n",
       "    </tr>\n",
       "    <tr>\n",
       "      <th>93</th>\n",
       "      <td>546474</td>\n",
       "      <td>treatment</td>\n",
       "      <td>new</td>\n",
       "      <td>4.94</td>\n",
       "      <td>no</td>\n",
       "      <td>French</td>\n",
       "    </tr>\n",
       "    <tr>\n",
       "      <th>95</th>\n",
       "      <td>546446</td>\n",
       "      <td>treatment</td>\n",
       "      <td>new</td>\n",
       "      <td>5.15</td>\n",
       "      <td>no</td>\n",
       "      <td>Spanish</td>\n",
       "    </tr>\n",
       "    <tr>\n",
       "      <th>97</th>\n",
       "      <td>546472</td>\n",
       "      <td>treatment</td>\n",
       "      <td>new</td>\n",
       "      <td>7.07</td>\n",
       "      <td>yes</td>\n",
       "      <td>Spanish</td>\n",
       "    </tr>\n",
       "    <tr>\n",
       "      <th>98</th>\n",
       "      <td>546481</td>\n",
       "      <td>treatment</td>\n",
       "      <td>new</td>\n",
       "      <td>6.20</td>\n",
       "      <td>yes</td>\n",
       "      <td>Spanish</td>\n",
       "    </tr>\n",
       "    <tr>\n",
       "      <th>99</th>\n",
       "      <td>546483</td>\n",
       "      <td>treatment</td>\n",
       "      <td>new</td>\n",
       "      <td>5.86</td>\n",
       "      <td>yes</td>\n",
       "      <td>English</td>\n",
       "    </tr>\n",
       "  </tbody>\n",
       "</table>\n",
       "</div>"
      ],
      "text/plain": [
       "    user_id      group landing_page  time_spent_on_the_page converted  \\\n",
       "1    546468  treatment          new                    7.13       yes   \n",
       "2    546462  treatment          new                    4.40        no   \n",
       "4    546459  treatment          new                    4.75       yes   \n",
       "6    546448  treatment          new                    5.25       yes   \n",
       "8    546461  treatment          new                   10.71       yes   \n",
       "12   546491  treatment          new                    5.86       yes   \n",
       "13   546478  treatment          new                    6.03       yes   \n",
       "15   546466  treatment          new                    6.27       yes   \n",
       "16   546443  treatment          new                    8.73        no   \n",
       "22   546450  treatment          new                    3.65        no   \n",
       "23   546475  treatment          new                    7.02       yes   \n",
       "24   546456  treatment          new                    6.18        no   \n",
       "25   546455  treatment          new                    4.39        no   \n",
       "26   546469  treatment          new                    9.49       yes   \n",
       "28   546471  treatment          new                    7.81       yes   \n",
       "30   546464  treatment          new                    5.41       yes   \n",
       "38   546487  treatment          new                    1.65        no   \n",
       "42   546489  treatment          new                    7.16       yes   \n",
       "43   546453  treatment          new                    7.16       yes   \n",
       "44   546488  treatment          new                    3.91        no   \n",
       "46   546460  treatment          new                    5.37       yes   \n",
       "47   546458  treatment          new                    7.23       yes   \n",
       "48   546492  treatment          new                    8.08       yes   \n",
       "49   546473  treatment          new                   10.50       yes   \n",
       "51   546457  treatment          new                    5.65        no   \n",
       "52   546479  treatment          new                    6.47       yes   \n",
       "54   546482  treatment          new                    6.41       yes   \n",
       "57   546454  treatment          new                    8.30       yes   \n",
       "60   546470  treatment          new                    6.01       yes   \n",
       "61   546467  treatment          new                    6.79       yes   \n",
       "65   546445  treatment          new                    7.27       yes   \n",
       "68   546484  treatment          new                    6.70        no   \n",
       "71   546476  treatment          new                    5.42       yes   \n",
       "72   546452  treatment          new                    5.08       yes   \n",
       "73   546444  treatment          new                    7.46       yes   \n",
       "77   546485  treatment          new                    3.88        no   \n",
       "78   546486  treatment          new                    9.12       yes   \n",
       "80   546490  treatment          new                    4.68        no   \n",
       "81   546449  treatment          new                    5.26       yes   \n",
       "82   546463  treatment          new                    5.74       yes   \n",
       "86   546465  treatment          new                    6.71        no   \n",
       "87   546480  treatment          new                    3.68        no   \n",
       "88   546447  treatment          new                    3.30        no   \n",
       "90   546477  treatment          new                    5.40        no   \n",
       "91   546451  treatment          new                    8.47       yes   \n",
       "93   546474  treatment          new                    4.94        no   \n",
       "95   546446  treatment          new                    5.15        no   \n",
       "97   546472  treatment          new                    7.07       yes   \n",
       "98   546481  treatment          new                    6.20       yes   \n",
       "99   546483  treatment          new                    5.86       yes   \n",
       "\n",
       "   language_preferred  \n",
       "1             English  \n",
       "2             Spanish  \n",
       "4             Spanish  \n",
       "6              French  \n",
       "8              French  \n",
       "12            Spanish  \n",
       "13             French  \n",
       "15            Spanish  \n",
       "16            English  \n",
       "22            English  \n",
       "23            English  \n",
       "24            Spanish  \n",
       "25            English  \n",
       "26            English  \n",
       "28             French  \n",
       "30            English  \n",
       "38            Spanish  \n",
       "42            Spanish  \n",
       "43            English  \n",
       "44            English  \n",
       "46             French  \n",
       "47            Spanish  \n",
       "48            Spanish  \n",
       "49            English  \n",
       "51            English  \n",
       "52            Spanish  \n",
       "54            Spanish  \n",
       "57             French  \n",
       "60             French  \n",
       "61             French  \n",
       "65             French  \n",
       "68            Spanish  \n",
       "71             French  \n",
       "72            English  \n",
       "73            English  \n",
       "77            Spanish  \n",
       "78             French  \n",
       "80             French  \n",
       "81             French  \n",
       "82            Spanish  \n",
       "86            English  \n",
       "87             French  \n",
       "88             French  \n",
       "90             French  \n",
       "91            English  \n",
       "93             French  \n",
       "95            Spanish  \n",
       "97            Spanish  \n",
       "98            Spanish  \n",
       "99            English  "
      ]
     },
     "execution_count": 189,
     "metadata": {},
     "output_type": "execute_result"
    }
   ],
   "source": [
    "df1 = df.loc[df['landing_page'] == 'new']\n",
    "df1"
   ]
  },
  {
   "cell_type": "code",
   "execution_count": 190,
   "id": "78d9233e",
   "metadata": {},
   "outputs": [
    {
     "data": {
      "text/plain": [
       "language_preferred\n",
       "English    6.663750\n",
       "French     6.196471\n",
       "Spanish    5.835294\n",
       "Name: time_spent_on_the_page, dtype: float64"
      ]
     },
     "execution_count": 190,
     "metadata": {},
     "output_type": "execute_result"
    }
   ],
   "source": [
    "df1.groupby(['language_preferred'])['time_spent_on_the_page'].mean()"
   ]
  },
  {
   "cell_type": "code",
   "execution_count": 191,
   "id": "54d792d4",
   "metadata": {},
   "outputs": [
    {
     "data": {
      "text/plain": [
       "<AxesSubplot:xlabel='language_preferred', ylabel='time_spent_on_the_page'>"
      ]
     },
     "execution_count": 191,
     "metadata": {},
     "output_type": "execute_result"
    },
    {
     "data": {
      "image/png": "[encoded data removed]",
      "text/plain": [
       "<Figure size 432x288 with 1 Axes>"
      ]
     },
     "metadata": {
      "needs_background": "light"
     },
     "output_type": "display_data"
    }
   ],
   "source": [
    "sns.boxplot(data = df1, x = 'language_preferred', y = 'time_spent_on_the_page')"
   ]
  },
  {
   "cell_type": "markdown",
   "id": "5495f474",
   "metadata": {},
   "source": [
    "#### Observation:\n",
    "The average time spent on the pages seems relatively the same among the different language preferences."
   ]
  },
  {
   "cell_type": "markdown",
   "id": "8832e9b5",
   "metadata": {
    "id": "j63R8Uh78C-w"
   },
   "source": [
    "#### Let's write the null and alternative hypothesis\n",
    "\n",
    "Let $\\mu_1, \\mu_2, \\mu_3$ be the means of time spent on the new landing page for language preferences English, Spanish and French respectively.\n",
    "\n",
    "We will test the null hypothesis\n",
    "\n",
    ">$H_0: \\mu_1 = \\mu_2 = \\mu_3$\n",
    "\n",
    "against the alternative hypothesis\n",
    "\n",
    ">$H_a: $ At least one time average of the new landing page is different among the language preferences.\n"
   ]
  },
  {
   "cell_type": "code",
   "execution_count": 193,
   "id": "3f26e557",
   "metadata": {},
   "outputs": [
    {
     "name": "stdout",
     "output_type": "stream",
     "text": [
      "The p-value is 0.43204138694325955\n"
     ]
    }
   ],
   "source": [
    "#import the required function\n",
    "from scipy.stats import f_oneway\n",
    "\n",
    "# perform one-way anova test\n",
    "test_stat, p_value = f_oneway(df1.loc[df1['language_preferred'] == 'English', 'time_spent_on_the_page'],\n",
    "                              df1.loc[df1['language_preferred'] == 'Spanish', 'time_spent_on_the_page'],\n",
    "                              df1.loc[df1['language_preferred'] == 'French', 'time_spent_on_the_page'])\n",
    "print('The p-value is ' + str(p_value))"
   ]
  },
  {
   "cell_type": "markdown",
   "id": "0453c627",
   "metadata": {},
   "source": [
    "#### Compare the p-value with $\\alpha$"
   ]
  },
  {
   "cell_type": "code",
   "execution_count": 188,
   "id": "ec55e6b9",
   "metadata": {},
   "outputs": [
    {
     "name": "stdout",
     "output_type": "stream",
     "text": [
      "As the p-value 0.43204138694325955 is greater than the level of significance, we fail to reject the null hypothesis.\n"
     ]
    }
   ],
   "source": [
    "# print the conclusion based on p-value\n",
    "if p_value < 0.05:\n",
    "    print(f'As the p-value {p_value} is less than the level of significance, we reject the null hypothesis.')\n",
    "else:\n",
    "    print(f'As the p-value {p_value} is greater than the level of significance, we fail to reject the null hypothesis.')"
   ]
  },
  {
   "cell_type": "markdown",
   "id": "5ff3b7dd",
   "metadata": {},
   "source": [
    "#### Step 6: Draw Inference"
   ]
  },
  {
   "cell_type": "markdown",
   "id": "e208249a",
   "metadata": {},
   "source": [
    "At 5% significance level, we fail to reject the null hypothesis. Hence we don't have enough statistical evidence to say that at least one time average on the new landing page is different among the language preferences."
   ]
  },
  {
   "cell_type": "markdown",
   "id": "4fc194f7",
   "metadata": {
    "colab_type": "text",
    "id": "hsxPCQCzvFwP"
   },
   "source": [
    "#### What conclusion does the test lead to?"
   ]
  },
  {
   "cell_type": "markdown",
   "id": "ef4e8552",
   "metadata": {
    "colab_type": "text",
    "id": "qy9MUVDCvFwQ"
   },
   "source": [
    "In this scenario, the p value is 0.432 which is greater than the 0.05. Hence, we fail to reject the null hypothesis. \n",
    "\n",
    "This means that the time averages on the new landing page for the different languages are relatively the same."
   ]
  },
  {
   "cell_type": "code",
   "execution_count": null,
   "id": "33126f5f",
   "metadata": {},
   "outputs": [],
   "source": []
  }
 ],
 "metadata": {
  "kernelspec": {
   "display_name": "Python 3",
   "language": "python",
   "name": "python3"
  },
  "language_info": {
   "codemirror_mode": {
    "name": "ipython",
    "version": 3
   },
   "file_extension": ".py",
   "mimetype": "text/x-python",
   "name": "python",
   "nbconvert_exporter": "python",
   "pygments_lexer": "ipython3",
   "version": "3.8.8"
  }
 },
 "nbformat": 4,
 "nbformat_minor": 5
}
